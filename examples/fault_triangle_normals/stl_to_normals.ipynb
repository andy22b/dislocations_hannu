{
 "cells": [
  {
   "cell_type": "code",
   "execution_count": 1,
   "metadata": {
    "collapsed": true
   },
   "outputs": [],
   "source": [
    "from glob import glob\n",
    "import meshio\n",
    "import numpy as np\n",
    "from pyproj import Transformer"
   ]
  },
  {
   "cell_type": "markdown",
   "source": [
    "Allows us to convert between NZTM and NZMG"
   ],
   "metadata": {
    "collapsed": false
   }
  },
  {
   "cell_type": "code",
   "execution_count": 2,
   "outputs": [],
   "source": [
    "transform = Transformer.from_crs(2193, 27200, always_xy=True)"
   ],
   "metadata": {
    "collapsed": false
   }
  },
  {
   "cell_type": "code",
   "execution_count": 4,
   "outputs": [],
   "source": [
    "# Find remeshed STL files\n",
    "stl_list = list(glob(\"fault_surfaces/*_remeshed.stl\"))\n",
    "# Loop through, calculating normals for each fault\n",
    "for stl_name in stl_list:\n",
    "    # File name for export (remove stl extension, replace with normals.txt)\n",
    "    out_name = stl_name.split(\".stl\")[0] + \"_normals.txt\"\n",
    "    # Read in mesh, identify triangles and vertices\n",
    "    stl = meshio.read(stl_name)\n",
    "    triangles = stl.cells_dict[\"triangle\"]\n",
    "    vertices = stl.points\n",
    "    # combine triangle edges and vertices into single array\n",
    "    triangles_xyz = vertices[triangles]\n",
    "    # Calculate triangle centroids\n",
    "    centroids = triangles_xyz.mean(axis=1)\n",
    "    # convert centroids into format desires by Rafael\n",
    "    nzmg_x, nzmg_y = transform.transform(centroids[:, 0], centroids[:, 1])\n",
    "    # Reorder columns: N, E, down (down is positive)\n",
    "    centroids_nzmg = np.column_stack([nzmg_y, nzmg_x, -1 * centroids[:, -1]])\n",
    "    # Vectors between triangle vertices to create normals using cross product\n",
    "    vec1 = np.array([tri[1] - tri[0] for tri in triangles_xyz])\n",
    "    vec2 = np.array([tri[2] - tri[0] for tri in triangles_xyz])\n",
    "    # Calculate normals\n",
    "    crosses = np.cross(vec1, vec2)\n",
    "    # Normals to unit vectors\n",
    "    crosses /= np.linalg.norm(crosses, axis=1)[:, None]\n",
    "    # Find normals that point downwards\n",
    "    if np.mean(crosses[:, -1]) < 0:\n",
    "        crosses *= -1\n",
    "    # Reorder columns into Rafael's weird preferred format\n",
    "    crosses_reordered = np.column_stack([crosses[:, 1], crosses[:, 0], -1 * crosses[:, -1]])\n",
    "    # Combine centroids with unit normals\n",
    "    normals = np.hstack([centroids_nzmg, crosses_reordered])\n",
    "    # Write file\n",
    "    np.savetxt(out_name, normals, delimiter=\",\", header=\"tri_cen_northing,tri_cen_easting,tri_cen_depth,normal_n,normal_e,normal_down\",comments=\"\", fmt=\"%.6f\")\n"
   ],
   "metadata": {
    "collapsed": false
   }
  },
  {
   "cell_type": "code",
   "execution_count": null,
   "outputs": [],
   "source": [],
   "metadata": {
    "collapsed": false
   }
  }
 ],
 "metadata": {
  "kernelspec": {
   "display_name": "Python 3",
   "language": "python",
   "name": "python3"
  },
  "language_info": {
   "codemirror_mode": {
    "name": "ipython",
    "version": 2
   },
   "file_extension": ".py",
   "mimetype": "text/x-python",
   "name": "python",
   "nbconvert_exporter": "python",
   "pygments_lexer": "ipython2",
   "version": "2.7.6"
  }
 },
 "nbformat": 4,
 "nbformat_minor": 0
}
