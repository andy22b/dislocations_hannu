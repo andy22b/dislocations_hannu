{
 "cells": [
  {
   "cell_type": "code",
   "execution_count": 1,
   "id": "f80ec446",
   "metadata": {},
   "outputs": [],
   "source": [
    "from tsurf import tsurf"
   ]
  },
  {
   "cell_type": "code",
   "execution_count": 5,
   "id": "307f6746",
   "metadata": {},
   "outputs": [],
   "source": [
    "tsurf_mesh = tsurf(\"data/Hope_combined.ts\")"
   ]
  },
  {
   "cell_type": "code",
   "execution_count": 7,
   "id": "80c2cfcc",
   "metadata": {},
   "outputs": [],
   "source": [
    "tsurf_mesh.mesh.write(\"Hope_combined.stl\", file_format=\"stl\")"
   ]
  }
 ],
 "metadata": {
  "kernelspec": {
   "display_name": "Python 3 (ipykernel)",
   "language": "python",
   "name": "python3"
  },
  "language_info": {
   "codemirror_mode": {
    "name": "ipython",
    "version": 3
   },
   "file_extension": ".py",
   "mimetype": "text/x-python",
   "name": "python",
   "nbconvert_exporter": "python",
   "pygments_lexer": "ipython3",
   "version": "3.9.13"
  }
 },
 "nbformat": 4,
 "nbformat_minor": 5
}
